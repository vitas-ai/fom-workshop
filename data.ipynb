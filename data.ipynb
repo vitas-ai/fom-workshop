{
 "cells": [
  {
   "cell_type": "markdown",
   "id": "06a1012a",
   "metadata": {},
   "source": [
    "# FOM Workshop\n",
    "Example: how to load data & get first insights"
   ]
  },
  {
   "cell_type": "markdown",
   "id": "6f18dfee",
   "metadata": {},
   "source": [
    "## Load Calls\n",
    "loads the call table into a panda dataframe"
   ]
  },
  {
   "cell_type": "code",
   "execution_count": 1,
   "id": "3a154eee",
   "metadata": {},
   "outputs": [
    {
     "name": "stderr",
     "output_type": "stream",
     "text": [
      "/Users/alexgaus/.pyenv/versions/3.7.8/lib/python3.7/site-packages/pandas/compat/__init__.py:97: UserWarning: Could not import the lzma module. Your installed Python is incomplete. Attempting to use lzma compression will result in a RuntimeError.\n",
      "  warnings.warn(msg)\n"
     ]
    },
    {
     "name": "stdout",
     "output_type": "stream",
     "text": [
      "There are 18 columns in dataframe\n",
      "['sender_id', 'timestamp', 'duration', 'call_steps', 'call_type', 'reason', 'user', 'existing_order', 'order', 'repeat_location', 'cancel', 'name', 'poi', 'street', 'city', 'zip', 'nr', 'datetime']\n",
      "\n",
      "There are 513 rows in dataframe\n",
      "\n",
      " 5 example rows for calls\n",
      "                                  sender_id           timestamp  duration  \\\n",
      "0  9ed1af83bfa2ab138dd787b1f2717ccd328ef1fe 2021-11-29 11:05:13        33   \n",
      "1  c8ada6517b82824775529de9d0aa94671cffa763 2021-11-29 10:46:25        33   \n",
      "2  8af153b53890afed9bc82b4e8710cd401715c7e1 2021-11-29 10:29:14        24   \n",
      "3  6c81d3837b15a2bc653ab1898c39ec9026afdac9 2021-11-29 10:10:49        59   \n",
      "4  bc6d78f5067ee22f463abb33d032f7968e4434c3 2021-11-29 10:08:41         4   \n",
      "\n",
      "   call_steps    call_type reason  user  existing_order  order  \\\n",
      "0           0   DTMF_ORDER   None     1               0      1   \n",
      "1           0   DTMF_ORDER   None     1               0      1   \n",
      "2           1         CALL   None     0               0      0   \n",
      "3           4         None   None     0               0      0   \n",
      "4           0  EARLY_ABORT   None     1               0      0   \n",
      "\n",
      "   repeat_location  cancel  name  poi  street  city  zip  nr datetime  \n",
      "0                0       0     1    0       0     0    0   0     None  \n",
      "1                0       0     1    0       0     0    0   0     None  \n",
      "2                0       0     0    0       0     0    0   0     None  \n",
      "3                0       0     0    0       0     0    0   0     None  \n",
      "4                0       0     1    0       0     0    0   0     None  \n",
      "         duration  call_steps        user  existing_order       order  \\\n",
      "count  513.000000  513.000000  513.000000      513.000000  513.000000   \n",
      "mean    45.654971    1.961014    0.419103        0.048733    0.276803   \n",
      "std     55.384274    3.021156    0.493894        0.215519    0.447855   \n",
      "min      1.000000    0.000000    0.000000        0.000000    0.000000   \n",
      "25%     17.000000    0.000000    0.000000        0.000000    0.000000   \n",
      "50%     32.000000    0.000000    0.000000        0.000000    0.000000   \n",
      "75%     62.000000    3.000000    1.000000        0.000000    1.000000   \n",
      "max    932.000000   20.000000    1.000000        1.000000    1.000000   \n",
      "\n",
      "       repeat_location      cancel        name         poi      street  \\\n",
      "count       513.000000  513.000000  513.000000  513.000000  513.000000   \n",
      "mean          0.064327    0.007797    0.610136    0.146199    0.331384   \n",
      "std           0.245575    0.088043    0.488195    0.353650    0.471170   \n",
      "min           0.000000    0.000000    0.000000    0.000000    0.000000   \n",
      "25%           0.000000    0.000000    0.000000    0.000000    0.000000   \n",
      "50%           0.000000    0.000000    1.000000    0.000000    0.000000   \n",
      "75%           0.000000    0.000000    1.000000    0.000000    1.000000   \n",
      "max           1.000000    1.000000    1.000000    1.000000    1.000000   \n",
      "\n",
      "             city         zip          nr  \n",
      "count  513.000000  513.000000  513.000000  \n",
      "mean     0.360624    0.325536    0.302144  \n",
      "std      0.480650    0.469032    0.459636  \n",
      "min      0.000000    0.000000    0.000000  \n",
      "25%      0.000000    0.000000    0.000000  \n",
      "50%      0.000000    0.000000    0.000000  \n",
      "75%      1.000000    1.000000    1.000000  \n",
      "max      1.000000    1.000000    1.000000  \n"
     ]
    }
   ],
   "source": [
    "import pandas as pd\n",
    "calls = pd.read_json (r'data/json/calls.json')\n",
    "\n",
    "print(f\"There are {len(calls.columns)} columns in dataframe\")\n",
    "print(list(calls.columns))\n",
    "print(f\"\\nThere are {len(calls)} rows in dataframe\")\n",
    "print(\"\\n 5 example rows for calls\")\n",
    "print(calls[:5])\n",
    "print(calls.describe())"
   ]
  },
  {
   "cell_type": "markdown",
   "id": "d26040bf",
   "metadata": {},
   "source": [
    "## Load Utterances\n",
    "\n",
    "loads the call table into a panda dataframe\n"
   ]
  },
  {
   "cell_type": "code",
   "execution_count": 2,
   "id": "f6c60e7c",
   "metadata": {},
   "outputs": [
    {
     "name": "stdout",
     "output_type": "stream",
     "text": [
      "There are 5 columns in dataframe\n",
      "['sender_id', 'utterance_id', 'timestamp', 'intent', 'confidence']\n",
      "\n",
      "There are 1099 rows in dataframe\n",
      "\n",
      " 5 example rows for calls\n",
      "                                  sender_id  utterance_id           timestamp  \\\n",
      "0  46220ac8bf9c9dbdccec65fc394aec300a06ed0e          6303 2021-09-01 09:34:29   \n",
      "1  46220ac8bf9c9dbdccec65fc394aec300a06ed0e          6304 2021-09-01 09:34:36   \n",
      "2  46220ac8bf9c9dbdccec65fc394aec300a06ed0e          6305 2021-09-01 09:34:44   \n",
      "3  46220ac8bf9c9dbdccec65fc394aec300a06ed0e          6306 2021-09-01 09:34:52   \n",
      "4  46220ac8bf9c9dbdccec65fc394aec300a06ed0e          6307 2021-09-01 09:35:00   \n",
      "\n",
      "        intent  confidence  \n",
      "0        order        0.90  \n",
      "1     set_name        0.96  \n",
      "2     set_time        0.96  \n",
      "3     set_time        0.96  \n",
      "4  set_address        0.53  \n",
      "       utterance_id   confidence\n",
      "count   1099.000000  1099.000000\n",
      "mean    8622.505005     0.875314\n",
      "std     1075.983394     0.211872\n",
      "min     6303.000000     0.000000\n",
      "25%     8481.500000     0.910000\n",
      "50%     8996.000000     0.960000\n",
      "75%     9351.500000     0.970000\n",
      "max     9729.000000     1.000000\n"
     ]
    }
   ],
   "source": [
    "import pandas as pd\n",
    "utterances = pd.read_json (r'data/json/utterances.json')\n",
    "\n",
    "print(f\"There are {len(utterances.columns)} columns in dataframe\")\n",
    "print(list(utterances.columns))\n",
    "print(f\"\\nThere are {len(utterances)} rows in dataframe\")\n",
    "print(\"\\n 5 example rows for calls\")\n",
    "print(utterances[:5])\n",
    "print(utterances.describe())"
   ]
  },
  {
   "cell_type": "markdown",
   "id": "33b8bfb6",
   "metadata": {},
   "source": [
    "## Example for pie chart\n",
    "call_type in calls"
   ]
  },
  {
   "cell_type": "code",
   "execution_count": 3,
   "id": "76bb2c2b",
   "metadata": {},
   "outputs": [
    {
     "data": {
      "text/plain": [
       "<matplotlib.axes._subplots.AxesSubplot at 0x1181c3290>"
      ]
     },
     "execution_count": 3,
     "metadata": {},
     "output_type": "execute_result"
    }
   ],
   "source": [
    "calls['call_type'].value_counts().plot.pie(autopct='%.0f%%')"
   ]
  },
  {
   "cell_type": "markdown",
   "id": "d429602a",
   "metadata": {},
   "source": [
    "## Example for bar chart\n",
    "intent in utterance"
   ]
  },
  {
   "cell_type": "code",
   "execution_count": 4,
   "id": "1843157d",
   "metadata": {},
   "outputs": [
    {
     "data": {
      "text/plain": [
       "<matplotlib.axes._subplots.AxesSubplot at 0x118323a50>"
      ]
     },
     "execution_count": 4,
     "metadata": {},
     "output_type": "execute_result"
    },
    {
     "data": {
      "image/png": "[encoded data removed]",
      "text/plain": [
       "<Figure size 432x288 with 1 Axes>"
      ]
     },
     "metadata": {
      "needs_background": "light"
     },
     "output_type": "display_data"
    }
   ],
   "source": [
    "utterances['intent'].value_counts().plot.bar()"
   ]
  }
 ],
 "metadata": {
  "kernelspec": {
   "display_name": "Python 3 (ipykernel)",
   "language": "python",
   "name": "python3"
  },
  "language_info": {
   "codemirror_mode": {
    "name": "ipython",
    "version": 3
   },
   "file_extension": ".py",
   "mimetype": "text/x-python",
   "name": "python",
   "nbconvert_exporter": "python",
   "pygments_lexer": "ipython3",
   "version": "3.7.8"
  }
 },
 "nbformat": 4,
 "nbformat_minor": 5
}
